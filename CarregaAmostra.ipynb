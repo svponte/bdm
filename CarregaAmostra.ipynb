{
 "cells": [
  {
   "cell_type": "code",
   "execution_count": 61,
   "metadata": {},
   "outputs": [],
   "source": [
    "import pandas as pd\n",
    "import numpy as np\n",
    "import random as rd\n",
    "from sklearn.utils import shuffle"
   ]
  },
  {
   "cell_type": "code",
   "execution_count": 62,
   "metadata": {},
   "outputs": [],
   "source": [
    "# Colunas do banco\n",
    "dfCols = pd.DataFrame(np.array([['NU_INSCRICAO','bigint'], ['NU_ANO','int'], ['CO_ESCOLA','int'], ['CO_MUNICIPIO_ESC','int'], ['CO_MUNICIPIO_NASCIMENTO','int'], \n",
    "        ['CO_MUNICIPIO_PROVA','int'], ['CO_MUNICIPIO_RESIDENCIA','int'], ['CO_PROVA_CH','int'], ['CO_PROVA_CN','int'], ['CO_PROVA_LC','int'], \n",
    "        ['CO_PROVA_MT','int'], ['CO_UF_ESC','int'], ['CO_UF_NASCIMENTO','int'], ['CO_UF_PROVA','text'], ['CO_UF_RESIDENCIA','int'], \n",
    "        ['IN_ACESSO','int'], ['IN_AMPLIADA_18','int'], ['IN_AMPLIADA_24','int'], ['IN_APOIO_PERNA','int'], ['IN_AUTISMO','int'], \n",
    "        ['IN_BAIXA_VISAO','int'], ['IN_BRAILLE','int'], ['IN_CADEIRA_ACOLCHOADA','int'], ['IN_CADEIRA_CANHOTO','int'], ['IN_CADEIRA_ESPECIAL','int'], \n",
    "        ['IN_CEGUEIRA','int'], ['IN_COMPUTADOR','int'], ['IN_DEFICIENCIA_AUDITIVA','int'], ['IN_DEFICIENCIA_FISICA','int'], ['IN_DEFICIENCIA_MENTAL','int'], \n",
    "        ['IN_DEFICIT_ATENCAO','int'], ['IN_DISCALCULIA','int'], ['IN_DISLEXIA','int'], ['IN_ESTUDA_CLASSE_HOSPITALAR','int'], ['IN_GESTANTE','int'], \n",
    "        ['IN_GUIA_INTERPRETE','int'], ['IN_IDOSO','int'], ['IN_LACTANTE','int'], ['IN_LAMINA_OVERLAY','int'], ['IN_LEDOR','int'], \n",
    "        ['IN_LEITURA_LABIAL','int'], ['IN_LIBRAS','int'], ['IN_MAQUINA_BRAILE','int'], ['IN_MARCA_PASSO','int'], ['IN_MATERIAL_ESPECIFICO','int'], \n",
    "        ['IN_MEDICAMENTOS','int'], ['IN_MEDIDOR_GLICOSE','int'], ['IN_MESA_CADEIRA_RODAS','int'], ['IN_MESA_CADEIRA_SEPARADA','int'], ['IN_MOBILIARIO_ESPECIFICO','int'], \n",
    "        ['IN_MOBILIARIO_OBESO','int'], ['IN_NOME_SOCIAL','int'], ['IN_OUTRA_DEF','int'], ['IN_PROTETOR_AURICULAR','int'], ['IN_PROVA_DEITADO','int'], \n",
    "        ['IN_SALA_ACOMPANHANTE','int'], ['IN_SALA_ESPECIAL','int'], ['IN_SALA_INDIVIDUAL','int'], ['IN_SEM_RECURSO','int'], ['IN_SONDA','int'], \n",
    "        ['IN_SOROBAN','int'], ['IN_SURDEZ','int'], ['IN_SURDO_CEGUEIRA','int'], ['IN_TEMPO_ADICIONAL','int'], ['IN_TRANSCRICAO','int'], \n",
    "        ['IN_TREINEIRO','int'], ['IN_VISAO_MONOCULAR','int'], ['NO_MUNICIPIO_ESC','text'], ['NO_MUNICIPIO_NASCIMENTO','text'], ['NO_MUNICIPIO_PROVA','text'], \n",
    "        ['NO_MUNICIPIO_RESIDENCIA','text'], ['NU_IDADE','int'], ['NU_NOTA_CH','decimal'], ['NU_NOTA_CN','decimal'], ['NU_NOTA_COMP1','decimal'], \n",
    "        ['NU_NOTA_COMP2','decimal'], ['NU_NOTA_COMP3','decimal'], ['NU_NOTA_COMP4','decimal'], ['NU_NOTA_COMP5','decimal'], ['NU_NOTA_LC','decimal'], \n",
    "        ['NU_NOTA_MT','decimal'], ['NU_NOTA_REDACAO','decimal'], \n",
    "        ['Q001','text'], ['Q002','text'], ['Q003','text'], ['Q004','text'], ['Q005','text'], ['Q006','text'], ['Q007','text'], ['Q008','text'], ['Q009','text'], ['Q010','text'], \n",
    "        ['Q011','text'], ['Q012','text'], ['Q013','text'], ['Q014','text'], ['Q015','text'], ['Q016','text'], ['Q017','text'], ['Q018','text'], ['Q019','text'], ['Q020','text'], \n",
    "        ['Q021','text'], ['Q022','text'], ['Q023','text'], ['Q024','text'], ['Q025','text'], \n",
    "        ['SG_UF_ESC','text'], ['SG_UF_NASCIMENTO','text'], ['SG_UF_PROVA','text'], ['SG_UF_RESIDENCIA','text'], ['TP_ANO_CONCLUIU','int'], ['TP_COR_RACA','int'], ['TP_DEPENDENCIA_ADM_ESC','int'], \n",
    "        ['TP_ENSINO','int'], ['TP_ESCOLA','int'], ['TP_ESTADO_CIVIL','int'], ['TP_LINGUA','int'], ['TP_LOCALIZACAO_ESC','int'], ['TP_NACIONALIDADE','int'], ['TP_PRESENCA_CH','int'], \n",
    "        ['TP_PRESENCA_CN','int'], ['TP_PRESENCA_LC','int'], ['TP_PRESENCA_MT','int'], ['TP_SEXO','text'], ['TP_SIT_FUNC_ESC','int'], \n",
    "        ['TP_ST_CONCLUSAO','int'], ['TP_STATUS_REDACAO','int'], ['TX_GABARITO_CH','text'], ['TX_GABARITO_CN','text'], ['TX_GABARITO_LC','text'], \n",
    "        ['TX_GABARITO_MT','text'], ['TX_RESPOSTAS_CH','text'], ['TX_RESPOSTAS_CN','text'], ['TX_RESPOSTAS_LC','text'], ['TX_RESPOSTAS_MT','text'], \n",
    "        ['COD_ENTIDADE_CENSO','text'], ['COD_ETAPA_ENSINO_CENSO','int'], ['COD_MUNICIPIO_ESC_CENSO','int'], ['COD_MUNICIPIO_INSC','int'], ['CO_UF_ENTIDADE_CERTIFICACAO','text'], \n",
    "        ['GABARITO_CH','text'], ['GABARITO_CN','text'],['GABARITO_LC','text'],['GABARITO_MT','text'],['IN_CERTIFICADO','int'], \n",
    "        ['ID_DEPENDENCIA_ADM_ESC','int'], ['ID_DEPENDENCIA_ADM_CENSO','int'], ['ID_LOCALIZACAO_ESC','int'], ['IN_MACA','int'], ['IN_SABATISTA','int'], \n",
    "        ['NO_ENTIDADE_CERTIFICACAO','text'], ['NO_MUNICIPIO_INSC','text'],['NO_MUNICIPIO_ESC_CENSO','text'], ['ID_LOCALIZACAO_CENSO','int'], ['IN_OUTRO','int'], \n",
    "        ['IN_CONCLUINTE_CENSO','int'], ['IN_QSE','int'], ['IN_PRESENCA_CH','int'], ['IN_PRESENCA_CN','int'], ['IN_PRESENCA_LC','int'], \n",
    "        ['IN_PRESENCA_MT','int'],['IN_UNIDADE_PRISIONAL','int'], ['IN_STATUS_REDACAO','int'], ['IN_TP_ENSINO','int'], ['NACIONALIDADE','text'], \n",
    "        ['IN_UNIDADE_HOSPITALAR','int'], ['NU_NT_CH','decimal'], ['NU_NT_CN','decimal'], ['NU_NT_LC','decimal'], ['NU_NT_MT','decimal'], \n",
    "        ['PK_COD_ENTIDADE','int'],['SIT_FUNC_ESC','int'], ['SIT_FUNC_CENSO','int'], ['ST_CONCLUSAO','int'],['SG_UF_ENTIDADE_CERTIFICACAO','text'], \n",
    "        ['UF_ESC_CENSO','text'], ['UF_INSC','text'], ['UF_MUNICIPIO_PROVA','text']]),\n",
    "        columns=['Campo', 'Tipo'])\n",
    "\n",
    "#"
   ]
  },
  {
   "cell_type": "code",
   "execution_count": 63,
   "metadata": {},
   "outputs": [],
   "source": [
    "# Colunas do banco\n",
    "dfColsIDX = pd.DataFrame(np.array([['CO_ESCOLA', 'int'], ['CO_MUNICIPIO_ESC', 'int'], ['CO_MUNICIPIO_NASCIMENTO', 'int'], ['CO_MUNICIPIO_PROVA', 'int'], \n",
    "    ['CO_MUNICIPIO_RESIDENCIA', 'int'], ['CO_PROVA_CH', 'int'], ['CO_PROVA_MT', 'int'], ['CO_UF_ENTIDADE_CERTIFICACAO', 'text'], ['CO_UF_ESC', 'int'], \n",
    "    ['CO_UF_NASCIMENTO', 'int'], ['CO_UF_PROVA', 'text'], ['COD_MUNICIPIO_INSC', 'int,'], ['GABARITO_CN', 'text,'], ['GABARITO_LC', 'text,'], \n",
    "    ['ID_DEPENDENCIA_ADM_ESC', 'int'], ['ID_LOCALIZACAO_ESC', 'int'], ['IN_ACESSO', 'int'], ['IN_AMPLIADA_18', 'int'], ['IN_CADEIRA_CANHOTO', 'int'], ['IN_COMPUTADOR', 'int'], \n",
    "    ['IN_DEFICIENCIA_FISICA', 'int'], ['IN_DEFICIENCIA_MENTAL', 'int'], ['IN_DISLEXIA', 'int'], ['IN_ESTUDA_CLASSE_HOSPITALAR', 'int'], ['IN_MEDICAMENTOS', 'int'], \n",
    "    ['IN_MEDIDOR_GLICOSE', 'int'], ['IN_MESA_CADEIRA_RODAS', 'int'], ['IN_PRESENCA_CN', 'int'], ['IN_PRESENCA_MT', 'int,'], ['IN_PROTETOR_AURICULAR', 'int'], \n",
    "    ['IN_PROVA_DEITADO', 'int'], ['IN_QSE', 'int'], ['IN_SALA_ESPECIAL', 'int'], ['IN_SONDA', 'int'], ['IN_STATUS_REDACAO', 'int'], ['IN_TEMPO_ADICIONAL', 'int'], \n",
    "    ['IN_TP_ENSINO', 'int'], ['IN_TREINEIRO', 'int'], ['NACIONALIDADE', 'text'], ['NO_ENTIDADE_CERTIFICACAO', 'text'], ['NO_MUNICIPIO_ESC', 'text'], \n",
    "    ['NO_MUNICIPIO_NASCIMENTO', 'text'], ['NO_MUNICIPIO_RESIDENCIA', 'text'], ['NU_ANO', 'int'], ['NU_INSCRICAO', 'bigint'], ['NU_NOTA_CN', 'decimal'], \n",
    "    ['NU_NOTA_COMP1', 'decimal'], ['NU_NOTA_COMP3', 'decimal'], ['NU_NOTA_COMP5', 'decimal'], ['NU_NOTA_MT', 'decimal'], ['NU_NT_CN', 'decimal'], ['NU_NT_MT', 'decimal'], \n",
    "    ['PK_COD_ENTIDADE', 'int,'], ['Q005', 'text'], ['Q007', 'text'], ['Q009', 'text'], ['Q011', 'text'], ['Q013', 'text'], ['Q015', 'text'], ['Q017', 'text'], \n",
    "    ['Q019', 'text'], ['Q021', 'text'], ['Q023', 'text'], ['Q025', 'text'], ['SG_UF_ESC', 'text'], ['SG_UF_NASCIMENTO', 'text'], ['SG_UF_PROVA', 'text'], \n",
    "    ['SG_UF_RESIDENCIA', 'text'], ['SIT_FUNC_ESC', 'int'], ['ST_CONCLUSAO', 'int,'], ['TP_ANO_CONCLUIU', 'int'], ['TP_ENSINO', 'int'], ['TP_ESCOLA', 'int'], \n",
    "    ['TP_ESTADO_CIVIL', 'int'], ['TP_LINGUA', 'int'], ['TP_LOCALIZACAO_ESC', 'int'], ['TP_PRESENCA_CH', 'int'], ['TP_PRESENCA_LC', 'int'], ['TP_SIT_FUNC_ESC', 'int'], \n",
    "    ['TP_ST_CONCLUSAO', 'int'], ['TP_STATUS_REDACAO', 'int'], ['TX_GABARITO_CH', 'text'], ['TX_GABARITO_LC', 'text'], ['TX_RESPOSTAS_CH', 'text'], \n",
    "    ['TX_RESPOSTAS_LC', 'text'], ['UF_INSC', 'text'], ['UF_MUNICIPIO_PROVA', 'text']]),\n",
    "        columns=['Campo', 'Tipo'])"
   ]
  },
  {
   "cell_type": "code",
   "execution_count": 64,
   "metadata": {},
   "outputs": [],
   "source": [
    "# Carrega os datasets\n",
    "dfEnem = pd.read_csv('.\\\\amostras\\\\amostras_2019.csv', sep=\";\")\n",
    "df18 = pd.read_csv('.\\\\amostras\\\\amostras_2018.csv', sep=\";\")\n",
    "df17 = pd.read_csv('.\\\\amostras\\\\amostras_2017.csv', sep=\";\")\n",
    "df16 = pd.read_csv('.\\\\amostras\\\\amostras_2016.csv', sep=\";\")\n",
    "df15 = pd.read_csv('.\\\\amostras\\\\amostras_2015.csv', sep=\";\")\n",
    "df14 = pd.read_csv('.\\\\amostras\\\\amostras_2014.csv', sep=\";\")\n",
    "df13 = pd.read_csv('.\\\\amostras\\\\amostras_2013.csv', sep=\";\")\n",
    "df12 = pd.read_csv('.\\\\amostras\\\\amostras_2012.csv', sep=\";\")\n",
    "df11 = pd.read_csv('.\\\\amostras\\\\amostras_2011.csv', sep=\";\")\n",
    "df10 = pd.read_csv('.\\\\amostras\\\\amostras_2010.csv', sep=\";\")\n",
    "df09 = pd.read_csv('.\\\\amostras\\\\amostras_2009.csv', sep=\";\")\n",
    "\n",
    "dfEnem = dfEnem.append(df18)\n",
    "dfEnem = dfEnem.append(df17)\n",
    "dfEnem = dfEnem.append(df16)\n",
    "dfEnem = dfEnem.append(df15)\n",
    "dfEnem = dfEnem.append(df14)\n",
    "dfEnem = dfEnem.append(df13)\n",
    "dfEnem = dfEnem.append(df12)\n",
    "#dfEnem = dfEnem.append(df11)\n",
    "dfEnem = dfEnem.append(df10)\n",
    "dfEnem = dfEnem.append(df09)\n",
    "\n",
    "# Embaralha as entradas\n",
    "rd.seed(1)\n",
    "dfEnem = shuffle(dfEnem)\n",
    "dfEnem.reset_index(drop=True, inplace=True)\n",
    "dfEnem = dfEnem.fillna(0)"
   ]
  },
  {
   "cell_type": "code",
   "execution_count": 81,
   "metadata": {},
   "outputs": [
    {
     "data": {
      "text/plain": [
       "92"
      ]
     },
     "execution_count": 81,
     "metadata": {},
     "output_type": "execute_result"
    }
   ],
   "source": [
    "len(dfEnem)"
   ]
  },
  {
   "cell_type": "code",
   "execution_count": 65,
   "metadata": {},
   "outputs": [],
   "source": [
    "# Monta Projecao\n",
    "#rd.seed(123)\n",
    "maxAmostras = 79\n",
    "\n",
    "projecao = ''\n",
    "projecoes = []\n",
    "for i in range(0, 7):\n",
    "    tt = 2**i\n",
    "    #print (tt)\n",
    "    for a in range (64 // tt):\n",
    "        projecao = ''\n",
    "        colunas = rd.sample(range(0, len(dfCols)), 64)\n",
    "        for j in range(tt):\n",
    "            if projecao != '':\n",
    "                projecao += ', '\n",
    "            projecao += dfCols['Campo'][colunas[j]]\n",
    "        projecoes.append(projecao)\n",
    "#projecoes\n",
    "projecoes = shuffle(projecoes)"
   ]
  },
  {
   "cell_type": "code",
   "execution_count": 66,
   "metadata": {},
   "outputs": [],
   "source": [
    "import numpy as np\n",
    "\n",
    "def clausula(coluna, tipo, indice):\n",
    "    if coluna not in dfEnem.columns:\n",
    "        if tipo == 'text':\n",
    "            valor = ''\n",
    "        else:\n",
    "            valor = 0 \n",
    "    else:\n",
    "        valor = dfEnem[coluna][indice]\n",
    "    if valor == np.nan: valor = 0\n",
    "\n",
    "    #print (valor)\n",
    "    if tipo == 'text':\n",
    "        if valor == \"0\": valor = ''\n",
    "        return str(coluna) + \" = '\" + str(valor) + \"' \"\n",
    "    if tipo == 'int': \n",
    "        valor = int(valor)\n",
    "    return str(coluna) + \" = \" + str(valor)"
   ]
  },
  {
   "cell_type": "code",
   "execution_count": 80,
   "metadata": {},
   "outputs": [
    {
     "data": {
      "text/plain": [
       "92"
      ]
     },
     "execution_count": 80,
     "metadata": {},
     "output_type": "execute_result"
    }
   ],
   "source": [
    "len(dfEnem)"
   ]
  },
  {
   "cell_type": "code",
   "execution_count": 73,
   "metadata": {},
   "outputs": [
    {
     "ename": "IndexError",
     "evalue": "index 58 is out of bounds for axis 0 with size 11",
     "output_type": "error",
     "traceback": [
      "\u001b[1;31m---------------------------------------------------------------------------\u001b[0m",
      "\u001b[1;31mIndexError\u001b[0m                                Traceback (most recent call last)",
      "\u001b[1;32m<ipython-input-73-e948e0d3e90c>\u001b[0m in \u001b[0;36m<module>\u001b[1;34m\u001b[0m\n\u001b[0;32m     13\u001b[0m                 \u001b[1;32mbreak\u001b[0m\u001b[1;33m\u001b[0m\u001b[1;33m\u001b[0m\u001b[0m\n\u001b[0;32m     14\u001b[0m         \u001b[0mcoluna\u001b[0m \u001b[1;33m=\u001b[0m \u001b[0mrd\u001b[0m\u001b[1;33m.\u001b[0m\u001b[0msample\u001b[0m\u001b[1;33m(\u001b[0m\u001b[0mrange\u001b[0m\u001b[1;33m(\u001b[0m\u001b[1;36m0\u001b[0m\u001b[1;33m,\u001b[0m \u001b[0mlen\u001b[0m\u001b[1;33m(\u001b[0m\u001b[0mdfColsIDX\u001b[0m\u001b[1;33m)\u001b[0m\u001b[1;33m)\u001b[0m\u001b[1;33m,\u001b[0m \u001b[1;36m1\u001b[0m\u001b[1;33m)\u001b[0m\u001b[1;33m[\u001b[0m\u001b[1;36m0\u001b[0m\u001b[1;33m]\u001b[0m\u001b[1;33m\u001b[0m\u001b[1;33m\u001b[0m\u001b[0m\n\u001b[1;32m---> 15\u001b[1;33m         \u001b[0mvalor\u001b[0m \u001b[1;33m=\u001b[0m \u001b[0mstr\u001b[0m\u001b[1;33m(\u001b[0m\u001b[0mdfEnem\u001b[0m\u001b[1;33m.\u001b[0m\u001b[0miloc\u001b[0m\u001b[1;33m[\u001b[0m\u001b[0mcoluna\u001b[0m\u001b[1;33m]\u001b[0m\u001b[1;33m[\u001b[0m\u001b[0mlinha\u001b[0m\u001b[1;33m]\u001b[0m\u001b[1;33m)\u001b[0m\u001b[1;33m\u001b[0m\u001b[1;33m\u001b[0m\u001b[0m\n\u001b[0m\u001b[0;32m     16\u001b[0m     \u001b[1;31m#    if valor != np.nan and valor != '':\u001b[0m\u001b[1;33m\u001b[0m\u001b[1;33m\u001b[0m\u001b[1;33m\u001b[0m\u001b[0m\n\u001b[0;32m     17\u001b[0m     \u001b[1;31m#        break\u001b[0m\u001b[1;33m\u001b[0m\u001b[1;33m\u001b[0m\u001b[1;33m\u001b[0m\u001b[0m\n",
      "\u001b[1;32mC:\\ProgramData\\Anaconda3\\lib\\site-packages\\pandas\\core\\series.py\u001b[0m in \u001b[0;36m__getitem__\u001b[1;34m(self, key)\u001b[0m\n\u001b[0;32m    848\u001b[0m \u001b[1;33m\u001b[0m\u001b[0m\n\u001b[0;32m    849\u001b[0m         \u001b[1;32mif\u001b[0m \u001b[0mis_integer\u001b[0m\u001b[1;33m(\u001b[0m\u001b[0mkey\u001b[0m\u001b[1;33m)\u001b[0m \u001b[1;32mand\u001b[0m \u001b[0mself\u001b[0m\u001b[1;33m.\u001b[0m\u001b[0mindex\u001b[0m\u001b[1;33m.\u001b[0m\u001b[0m_should_fallback_to_positional\u001b[0m\u001b[1;33m(\u001b[0m\u001b[1;33m)\u001b[0m\u001b[1;33m:\u001b[0m\u001b[1;33m\u001b[0m\u001b[1;33m\u001b[0m\u001b[0m\n\u001b[1;32m--> 850\u001b[1;33m             \u001b[1;32mreturn\u001b[0m \u001b[0mself\u001b[0m\u001b[1;33m.\u001b[0m\u001b[0m_values\u001b[0m\u001b[1;33m[\u001b[0m\u001b[0mkey\u001b[0m\u001b[1;33m]\u001b[0m\u001b[1;33m\u001b[0m\u001b[1;33m\u001b[0m\u001b[0m\n\u001b[0m\u001b[0;32m    851\u001b[0m \u001b[1;33m\u001b[0m\u001b[0m\n\u001b[0;32m    852\u001b[0m         \u001b[1;32melif\u001b[0m \u001b[0mkey_is_scalar\u001b[0m\u001b[1;33m:\u001b[0m\u001b[1;33m\u001b[0m\u001b[1;33m\u001b[0m\u001b[0m\n",
      "\u001b[1;31mIndexError\u001b[0m: index 58 is out of bounds for axis 0 with size 11"
     ]
    }
   ],
   "source": [
    "# Monta Seleção 2\n",
    "selecao = ''\n",
    "selecoes = []\n",
    "indice = ''\n",
    "indices = []\n",
    "usados = []\n",
    "for i in range(0, 7):\n",
    "    selecao = ''\n",
    "    while True:\n",
    "        linha = rd.sample(range(0, len(dfEnem)), 1)[0]\n",
    "        coluna = rd.sample(range(0, len(dfColsIDX)), 1)[0]\n",
    "        valor = str(dfEnem.iloc[coluna][linha])\n",
    "    #    if valor != np.nan and valor != '':\n",
    "    #        break\n",
    "    #usados.append(linha)\n",
    "        print (valor)\n",
    "        break\n",
    "        #print(coluna)\n",
    "    #Campo = dfColsIDX['Campo'][colunas[coluna]]\n",
    "    #tipo = dfColsIDX['Tipo'][colunas[coluna]]\n",
    "    #if tipo == 'text':\n",
    "    #    selecao = str(coluna) + \" = '\" + str(valor) + \"' \"\n",
    "    #if tipo == 'int': \n",
    "    #    valor = int(valor)\n",
    "    #    selecao = str(coluna) + \" = \" + str(valor)\n",
    "\n",
    "    selecoes.append(selecao)"
   ]
  },
  {
   "cell_type": "code",
   "execution_count": 99,
   "metadata": {},
   "outputs": [],
   "source": [
    "# Monta Seleção\n",
    "\n",
    "\n",
    "selecao = ''\n",
    "selecoes = []\n",
    "indice = ''\n",
    "indices = []\n",
    "iAmostra = 0\n",
    "for i in range(0, 7):\n",
    "    tt = 2**i\n",
    "    for a in range (64 // tt):\n",
    "        selecao = ''\n",
    "        indice = ''\n",
    "        colunas = rd.sample(range(0, len(dfCols)), 64)\n",
    "        for j in range(tt):\n",
    "            if selecao != '':\n",
    "                selecao += ' AND '\n",
    "                #indice += ', '\n",
    "            selecao += clausula(dfCols['Campo'][colunas[j]], dfCols['Tipo'][colunas[j]], iAmostra)\n",
    "            indice = dfCols['Campo'][colunas[j]]\n",
    "            if indice not in indices:\n",
    "                indices.append(indice)       \n",
    "        selecoes.append(selecao)\n",
    "        #indices.append(indice)\n",
    "        iAmostra += 1\n",
    "        if iAmostra == maxAmostras: iAmostra = 0;\n",
    "    #if iAmostra == maxAmostras: break;\n",
    "#selecoes\n",
    "#selecoes = shuffle(selecoes)"
   ]
  },
  {
   "cell_type": "code",
   "execution_count": 100,
   "metadata": {},
   "outputs": [],
   "source": [
    "saida = []\n",
    "\n",
    "for i in range(len(projecoes)):\n",
    "    linha = \"SELECT \" + projecoes[i] + \" FROM ENEM WHERE \" + selecoes[i] \n",
    "    saida.append(linha)\n",
    "\n",
    "import pandas\n",
    "df = pandas.DataFrame(data={\"query\": saida})\n",
    "df.to_csv(\"./saida.csv\", sep=',',index=False)"
   ]
  },
  {
   "cell_type": "code",
   "execution_count": 102,
   "metadata": {},
   "outputs": [],
   "source": [
    "indexes = []\n",
    "iCont = 1\n",
    "\n",
    "for i in indices:\n",
    "    idx = \"CREATE INDEX IF NOT EXISTS IX_\" + str(iCont) + \" ON microdados.enem ( \" + i + \" )\"\n",
    "    indexes.append(idx)\n",
    "    iCont += 1\n",
    "\n",
    "df = pandas.DataFrame(data={\"idx\": indexes})\n",
    "df.to_csv(\"./indices.csv\", sep=',', index=False) "
   ]
  }
 ],
 "metadata": {
  "interpreter": {
   "hash": "b3ba2566441a7c06988d0923437866b63cedc61552a5af99d1f4fb67d367b25f"
  },
  "kernelspec": {
   "display_name": "Python 3.8.5 64-bit ('base': conda)",
   "name": "python3"
  },
  "language_info": {
   "codemirror_mode": {
    "name": "ipython",
    "version": 3
   },
   "file_extension": ".py",
   "mimetype": "text/x-python",
   "name": "python",
   "nbconvert_exporter": "python",
   "pygments_lexer": "ipython3",
   "version": "3.8.5"
  },
  "orig_nbformat": 4
 },
 "nbformat": 4,
 "nbformat_minor": 2
}
